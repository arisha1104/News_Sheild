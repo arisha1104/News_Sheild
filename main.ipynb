{
 "cells": [
  {
   "cell_type": "markdown",
   "id": "a0e7754f-ab0a-4233-8a25-247b9e3bc23b",
   "metadata": {},
   "source": [
    "# 1. Extracting_data"
   ]
  },
  {
   "cell_type": "markdown",
   "id": "d3f616d3-2623-41db-84cc-31e90fff2e30",
   "metadata": {},
   "source": [
    "## a)normal data extraction"
   ]
  },
  {
   "cell_type": "code",
   "execution_count": 1,
   "id": "c84fe671-e82d-45a4-a481-cc43a311b8b2",
   "metadata": {},
   "outputs": [
    {
     "name": "stdout",
     "output_type": "stream",
     "text": [
      "Real News Sample:\n"
     ]
    },
    {
     "data": {
      "text/html": [
       "<div>\n",
       "<style scoped>\n",
       "    .dataframe tbody tr th:only-of-type {\n",
       "        vertical-align: middle;\n",
       "    }\n",
       "\n",
       "    .dataframe tbody tr th {\n",
       "        vertical-align: top;\n",
       "    }\n",
       "\n",
       "    .dataframe thead th {\n",
       "        text-align: right;\n",
       "    }\n",
       "</style>\n",
       "<table border=\"1\" class=\"dataframe\">\n",
       "  <thead>\n",
       "    <tr style=\"text-align: right;\">\n",
       "      <th></th>\n",
       "      <th>title</th>\n",
       "      <th>text</th>\n",
       "      <th>subject</th>\n",
       "      <th>date</th>\n",
       "    </tr>\n",
       "  </thead>\n",
       "  <tbody>\n",
       "    <tr>\n",
       "      <th>0</th>\n",
       "      <td>As U.S. budget fight looms, Republicans flip t...</td>\n",
       "      <td>WASHINGTON (Reuters) - The head of a conservat...</td>\n",
       "      <td>politicsNews</td>\n",
       "      <td>December 31, 2017</td>\n",
       "    </tr>\n",
       "    <tr>\n",
       "      <th>1</th>\n",
       "      <td>U.S. military to accept transgender recruits o...</td>\n",
       "      <td>WASHINGTON (Reuters) - Transgender people will...</td>\n",
       "      <td>politicsNews</td>\n",
       "      <td>December 29, 2017</td>\n",
       "    </tr>\n",
       "    <tr>\n",
       "      <th>2</th>\n",
       "      <td>Senior U.S. Republican senator: 'Let Mr. Muell...</td>\n",
       "      <td>WASHINGTON (Reuters) - The special counsel inv...</td>\n",
       "      <td>politicsNews</td>\n",
       "      <td>December 31, 2017</td>\n",
       "    </tr>\n",
       "    <tr>\n",
       "      <th>3</th>\n",
       "      <td>FBI Russia probe helped by Australian diplomat...</td>\n",
       "      <td>WASHINGTON (Reuters) - Trump campaign adviser ...</td>\n",
       "      <td>politicsNews</td>\n",
       "      <td>December 30, 2017</td>\n",
       "    </tr>\n",
       "    <tr>\n",
       "      <th>4</th>\n",
       "      <td>Trump wants Postal Service to charge 'much mor...</td>\n",
       "      <td>SEATTLE/WASHINGTON (Reuters) - President Donal...</td>\n",
       "      <td>politicsNews</td>\n",
       "      <td>December 29, 2017</td>\n",
       "    </tr>\n",
       "  </tbody>\n",
       "</table>\n",
       "</div>"
      ],
      "text/plain": [
       "                                               title  \\\n",
       "0  As U.S. budget fight looms, Republicans flip t...   \n",
       "1  U.S. military to accept transgender recruits o...   \n",
       "2  Senior U.S. Republican senator: 'Let Mr. Muell...   \n",
       "3  FBI Russia probe helped by Australian diplomat...   \n",
       "4  Trump wants Postal Service to charge 'much mor...   \n",
       "\n",
       "                                                text       subject  \\\n",
       "0  WASHINGTON (Reuters) - The head of a conservat...  politicsNews   \n",
       "1  WASHINGTON (Reuters) - Transgender people will...  politicsNews   \n",
       "2  WASHINGTON (Reuters) - The special counsel inv...  politicsNews   \n",
       "3  WASHINGTON (Reuters) - Trump campaign adviser ...  politicsNews   \n",
       "4  SEATTLE/WASHINGTON (Reuters) - President Donal...  politicsNews   \n",
       "\n",
       "                 date  \n",
       "0  December 31, 2017   \n",
       "1  December 29, 2017   \n",
       "2  December 31, 2017   \n",
       "3  December 30, 2017   \n",
       "4  December 29, 2017   "
      ]
     },
     "metadata": {},
     "output_type": "display_data"
    },
    {
     "name": "stdout",
     "output_type": "stream",
     "text": [
      "\n",
      "Fake News Sample:\n"
     ]
    },
    {
     "data": {
      "text/html": [
       "<div>\n",
       "<style scoped>\n",
       "    .dataframe tbody tr th:only-of-type {\n",
       "        vertical-align: middle;\n",
       "    }\n",
       "\n",
       "    .dataframe tbody tr th {\n",
       "        vertical-align: top;\n",
       "    }\n",
       "\n",
       "    .dataframe thead th {\n",
       "        text-align: right;\n",
       "    }\n",
       "</style>\n",
       "<table border=\"1\" class=\"dataframe\">\n",
       "  <thead>\n",
       "    <tr style=\"text-align: right;\">\n",
       "      <th></th>\n",
       "      <th>title</th>\n",
       "      <th>text</th>\n",
       "      <th>subject</th>\n",
       "      <th>date</th>\n",
       "    </tr>\n",
       "  </thead>\n",
       "  <tbody>\n",
       "    <tr>\n",
       "      <th>0</th>\n",
       "      <td>Donald Trump Sends Out Embarrassing New Year’...</td>\n",
       "      <td>Donald Trump just couldn t wish all Americans ...</td>\n",
       "      <td>News</td>\n",
       "      <td>December 31, 2017</td>\n",
       "    </tr>\n",
       "    <tr>\n",
       "      <th>1</th>\n",
       "      <td>Drunk Bragging Trump Staffer Started Russian ...</td>\n",
       "      <td>House Intelligence Committee Chairman Devin Nu...</td>\n",
       "      <td>News</td>\n",
       "      <td>December 31, 2017</td>\n",
       "    </tr>\n",
       "    <tr>\n",
       "      <th>2</th>\n",
       "      <td>Sheriff David Clarke Becomes An Internet Joke...</td>\n",
       "      <td>On Friday, it was revealed that former Milwauk...</td>\n",
       "      <td>News</td>\n",
       "      <td>December 30, 2017</td>\n",
       "    </tr>\n",
       "    <tr>\n",
       "      <th>3</th>\n",
       "      <td>Trump Is So Obsessed He Even Has Obama’s Name...</td>\n",
       "      <td>On Christmas day, Donald Trump announced that ...</td>\n",
       "      <td>News</td>\n",
       "      <td>December 29, 2017</td>\n",
       "    </tr>\n",
       "    <tr>\n",
       "      <th>4</th>\n",
       "      <td>Pope Francis Just Called Out Donald Trump Dur...</td>\n",
       "      <td>Pope Francis used his annual Christmas Day mes...</td>\n",
       "      <td>News</td>\n",
       "      <td>December 25, 2017</td>\n",
       "    </tr>\n",
       "  </tbody>\n",
       "</table>\n",
       "</div>"
      ],
      "text/plain": [
       "                                               title  \\\n",
       "0   Donald Trump Sends Out Embarrassing New Year’...   \n",
       "1   Drunk Bragging Trump Staffer Started Russian ...   \n",
       "2   Sheriff David Clarke Becomes An Internet Joke...   \n",
       "3   Trump Is So Obsessed He Even Has Obama’s Name...   \n",
       "4   Pope Francis Just Called Out Donald Trump Dur...   \n",
       "\n",
       "                                                text subject  \\\n",
       "0  Donald Trump just couldn t wish all Americans ...    News   \n",
       "1  House Intelligence Committee Chairman Devin Nu...    News   \n",
       "2  On Friday, it was revealed that former Milwauk...    News   \n",
       "3  On Christmas day, Donald Trump announced that ...    News   \n",
       "4  Pope Francis used his annual Christmas Day mes...    News   \n",
       "\n",
       "                date  \n",
       "0  December 31, 2017  \n",
       "1  December 31, 2017  \n",
       "2  December 30, 2017  \n",
       "3  December 29, 2017  \n",
       "4  December 25, 2017  "
      ]
     },
     "metadata": {},
     "output_type": "display_data"
    }
   ],
   "source": [
    "import pandas as pd\n",
    "\n",
    "# Load the real and fake news datasets\n",
    "real_news = pd.read_csv(\"True.csv\")\n",
    "fake_news = pd.read_csv(\"Fake.csv\")\n",
    "\n",
    "# Show the first few rows\n",
    "print(\"Real News Sample:\")\n",
    "display(real_news.head())\n",
    "\n",
    "print(\"\\nFake News Sample:\")\n",
    "display(fake_news.head())\n",
    "\n"
   ]
  },
  {
   "cell_type": "markdown",
   "id": "8201dd6e-b9d4-4e1c-b347-b959fc65f38d",
   "metadata": {},
   "source": [
    "## b)checking missing values"
   ]
  },
  {
   "cell_type": "code",
   "execution_count": 29,
   "id": "bf708879-bc0c-4c8b-b50f-4307a584c80e",
   "metadata": {},
   "outputs": [
    {
     "name": "stdout",
     "output_type": "stream",
     "text": [
      "Missing values in Real News: title      0\n",
      "text       0\n",
      "subject    0\n",
      "date       0\n",
      "dtype: int64\n",
      "Missing values in Fake News: title      0\n",
      "text       0\n",
      "subject    0\n",
      "date       0\n",
      "dtype: int64\n"
     ]
    }
   ],
   "source": [
    "print(\"Missing values in Real News:\", real_news.isnull().sum())\n",
    "print(\"Missing values in Fake News:\", fake_news.isnull().sum())\n"
   ]
  },
  {
   "cell_type": "markdown",
   "id": "86a56f1d-9f7b-46cb-aef9-b5a74a802e08",
   "metadata": {},
   "source": [
    "## c) combing fake and true news and save "
   ]
  },
  {
   "cell_type": "code",
   "execution_count": 3,
   "id": "6850b12f-b86c-4ce2-a75c-01b94583eb39",
   "metadata": {},
   "outputs": [
    {
     "name": "stdout",
     "output_type": "stream",
     "text": [
      "✅ Combined dataset saved as 'combined_news.csv'\n"
     ]
    },
    {
     "data": {
      "text/html": [
       "<div>\n",
       "<style scoped>\n",
       "    .dataframe tbody tr th:only-of-type {\n",
       "        vertical-align: middle;\n",
       "    }\n",
       "\n",
       "    .dataframe tbody tr th {\n",
       "        vertical-align: top;\n",
       "    }\n",
       "\n",
       "    .dataframe thead th {\n",
       "        text-align: right;\n",
       "    }\n",
       "</style>\n",
       "<table border=\"1\" class=\"dataframe\">\n",
       "  <thead>\n",
       "    <tr style=\"text-align: right;\">\n",
       "      <th></th>\n",
       "      <th>title</th>\n",
       "      <th>text</th>\n",
       "      <th>label</th>\n",
       "    </tr>\n",
       "  </thead>\n",
       "  <tbody>\n",
       "    <tr>\n",
       "      <th>0</th>\n",
       "      <td>BREAKING: GOP Chairman Grassley Has Had Enoug...</td>\n",
       "      <td>Donald Trump s White House is in chaos, and th...</td>\n",
       "      <td>0</td>\n",
       "    </tr>\n",
       "    <tr>\n",
       "      <th>1</th>\n",
       "      <td>Failed GOP Candidates Remembered In Hilarious...</td>\n",
       "      <td>Now that Donald Trump is the presumptive GOP n...</td>\n",
       "      <td>0</td>\n",
       "    </tr>\n",
       "    <tr>\n",
       "      <th>2</th>\n",
       "      <td>Mike Pence’s New DC Neighbors Are HILARIOUSLY...</td>\n",
       "      <td>Mike Pence is a huge homophobe. He supports ex...</td>\n",
       "      <td>0</td>\n",
       "    </tr>\n",
       "    <tr>\n",
       "      <th>3</th>\n",
       "      <td>California AG pledges to defend birth control ...</td>\n",
       "      <td>SAN FRANCISCO (Reuters) - California Attorney ...</td>\n",
       "      <td>1</td>\n",
       "    </tr>\n",
       "    <tr>\n",
       "      <th>4</th>\n",
       "      <td>AZ RANCHERS Living On US-Mexico Border Destroy...</td>\n",
       "      <td>Twisted reasoning is all that comes from Pelos...</td>\n",
       "      <td>0</td>\n",
       "    </tr>\n",
       "  </tbody>\n",
       "</table>\n",
       "</div>"
      ],
      "text/plain": [
       "                                               title  \\\n",
       "0   BREAKING: GOP Chairman Grassley Has Had Enoug...   \n",
       "1   Failed GOP Candidates Remembered In Hilarious...   \n",
       "2   Mike Pence’s New DC Neighbors Are HILARIOUSLY...   \n",
       "3  California AG pledges to defend birth control ...   \n",
       "4  AZ RANCHERS Living On US-Mexico Border Destroy...   \n",
       "\n",
       "                                                text  label  \n",
       "0  Donald Trump s White House is in chaos, and th...      0  \n",
       "1  Now that Donald Trump is the presumptive GOP n...      0  \n",
       "2  Mike Pence is a huge homophobe. He supports ex...      0  \n",
       "3  SAN FRANCISCO (Reuters) - California Attorney ...      1  \n",
       "4  Twisted reasoning is all that comes from Pelos...      0  "
      ]
     },
     "execution_count": 3,
     "metadata": {},
     "output_type": "execute_result"
    }
   ],
   "source": [
    "# Assign labels: 1 for real news, 0 for fake news\n",
    "real_news[\"label\"] = 1\n",
    "fake_news[\"label\"] = 0\n",
    "\n",
    "# Combine both datasets\n",
    "news_data = pd.concat([real_news, fake_news], ignore_index=True)\n",
    "\n",
    "# Shuffle the dataset for randomness\n",
    "news_data = news_data.sample(frac=1, random_state=42).reset_index(drop=True)\n",
    "\n",
    "# Keep only relevant columns\n",
    "news_data = news_data[['title', 'text', 'label']]\n",
    "\n",
    "# Save the combined dataset for future use\n",
    "news_data.to_csv(\"combined_news.csv\", index=False)\n",
    "\n",
    "print(\"✅ Combined dataset saved as 'combined_news.csv'\")\n",
    "\n",
    "# Display first few rows\n",
    "news_data.head()\n",
    "\n",
    "\n",
    "\n",
    "\n"
   ]
  },
  {
   "cell_type": "markdown",
   "id": "566f8557-f204-4cd2-8ca9-3b4a577a1608",
   "metadata": {},
   "source": [
    "# 2. Data cleaning and Preprocessing"
   ]
  },
  {
   "cell_type": "markdown",
   "id": "c14b3d89-31da-4c46-ba49-8934237b07ce",
   "metadata": {},
   "source": [
    "## removing columns (already done in previous cell)"
   ]
  },
  {
   "cell_type": "code",
   "execution_count": null,
   "id": "9ca12e4d-2d1e-405f-b725-c497167312a6",
   "metadata": {},
   "outputs": [],
   "source": [
    "news_data = news_data[['title', 'text', 'label']]"
   ]
  },
  {
   "cell_type": "markdown",
   "id": "9a842509-ea23-4885-b11a-3b2b6048b756",
   "metadata": {},
   "source": [
    "## Load Combined Dataset (Run This After Restarting Notebook)"
   ]
  },
  {
   "cell_type": "code",
   "execution_count": 1,
   "id": "c08edd7d-33a1-4576-8715-fba5124643bc",
   "metadata": {},
   "outputs": [
    {
     "data": {
      "text/html": [
       "<div>\n",
       "<style scoped>\n",
       "    .dataframe tbody tr th:only-of-type {\n",
       "        vertical-align: middle;\n",
       "    }\n",
       "\n",
       "    .dataframe tbody tr th {\n",
       "        vertical-align: top;\n",
       "    }\n",
       "\n",
       "    .dataframe thead th {\n",
       "        text-align: right;\n",
       "    }\n",
       "</style>\n",
       "<table border=\"1\" class=\"dataframe\">\n",
       "  <thead>\n",
       "    <tr style=\"text-align: right;\">\n",
       "      <th></th>\n",
       "      <th>title</th>\n",
       "      <th>text</th>\n",
       "      <th>label</th>\n",
       "    </tr>\n",
       "  </thead>\n",
       "  <tbody>\n",
       "    <tr>\n",
       "      <th>0</th>\n",
       "      <td>BREAKING: GOP Chairman Grassley Has Had Enoug...</td>\n",
       "      <td>Donald Trump s White House is in chaos, and th...</td>\n",
       "      <td>0</td>\n",
       "    </tr>\n",
       "    <tr>\n",
       "      <th>1</th>\n",
       "      <td>Failed GOP Candidates Remembered In Hilarious...</td>\n",
       "      <td>Now that Donald Trump is the presumptive GOP n...</td>\n",
       "      <td>0</td>\n",
       "    </tr>\n",
       "    <tr>\n",
       "      <th>2</th>\n",
       "      <td>Mike Pence’s New DC Neighbors Are HILARIOUSLY...</td>\n",
       "      <td>Mike Pence is a huge homophobe. He supports ex...</td>\n",
       "      <td>0</td>\n",
       "    </tr>\n",
       "    <tr>\n",
       "      <th>3</th>\n",
       "      <td>California AG pledges to defend birth control ...</td>\n",
       "      <td>SAN FRANCISCO (Reuters) - California Attorney ...</td>\n",
       "      <td>1</td>\n",
       "    </tr>\n",
       "    <tr>\n",
       "      <th>4</th>\n",
       "      <td>AZ RANCHERS Living On US-Mexico Border Destroy...</td>\n",
       "      <td>Twisted reasoning is all that comes from Pelos...</td>\n",
       "      <td>0</td>\n",
       "    </tr>\n",
       "  </tbody>\n",
       "</table>\n",
       "</div>"
      ],
      "text/plain": [
       "                                               title  \\\n",
       "0   BREAKING: GOP Chairman Grassley Has Had Enoug...   \n",
       "1   Failed GOP Candidates Remembered In Hilarious...   \n",
       "2   Mike Pence’s New DC Neighbors Are HILARIOUSLY...   \n",
       "3  California AG pledges to defend birth control ...   \n",
       "4  AZ RANCHERS Living On US-Mexico Border Destroy...   \n",
       "\n",
       "                                                text  label  \n",
       "0  Donald Trump s White House is in chaos, and th...      0  \n",
       "1  Now that Donald Trump is the presumptive GOP n...      0  \n",
       "2  Mike Pence is a huge homophobe. He supports ex...      0  \n",
       "3  SAN FRANCISCO (Reuters) - California Attorney ...      1  \n",
       "4  Twisted reasoning is all that comes from Pelos...      0  "
      ]
     },
     "execution_count": 1,
     "metadata": {},
     "output_type": "execute_result"
    }
   ],
   "source": [
    "import pandas as pd\n",
    "\n",
    "# Load the previously saved combined dataset\n",
    "news_data = pd.read_csv(\"combined_news.csv\")\n",
    "\n",
    "# Display first few rows to confirm successful loading\n",
    "news_data.head()\n"
   ]
  },
  {
   "cell_type": "markdown",
   "id": "4df2af04-0c46-4241-bb75-508e57db963c",
   "metadata": {},
   "source": [
    "## b) Download required datasets for NLTK"
   ]
  },
  {
   "cell_type": "code",
   "execution_count": 61,
   "id": "c278afaf-504e-46ab-89c8-ad15a7b67efd",
   "metadata": {},
   "outputs": [
    {
     "name": "stderr",
     "output_type": "stream",
     "text": [
      "[nltk_data] Downloading package punkt to\n",
      "[nltk_data]     C:\\Users\\Deepk\\AppData\\Roaming\\nltk_data...\n",
      "[nltk_data]   Package punkt is already up-to-date!\n",
      "[nltk_data] Downloading package stopwords to\n",
      "[nltk_data]     C:\\Users\\Deepk\\AppData\\Roaming\\nltk_data...\n",
      "[nltk_data]   Package stopwords is already up-to-date!\n"
     ]
    },
    {
     "data": {
      "text/plain": [
       "True"
      ]
     },
     "execution_count": 61,
     "metadata": {},
     "output_type": "execute_result"
    }
   ],
   "source": [
    "import nltk\n",
    "import spacy\n",
    "import re\n",
    "from nltk.corpus import stopwords\n",
    "from nltk.tokenize import word_tokenize\n",
    "from spacy.lang.en.stop_words import STOP_WORDS\n",
    "\n",
    "# Download required datasets for NLTK\n",
    "nltk.download(\"punkt\")\n",
    "nltk.download(\"stopwords\")\n"
   ]
  },
  {
   "cell_type": "markdown",
   "id": "1277f1df-7a44-4917-80f9-fb34b7003969",
   "metadata": {},
   "source": [
    "## c) define the cleaning function\n"
   ]
  },
  {
   "cell_type": "code",
   "execution_count": 10,
   "id": "88bb4999-67ef-43ac-a727-5fc45bb19f17",
   "metadata": {},
   "outputs": [
    {
     "name": "stderr",
     "output_type": "stream",
     "text": [
      "[nltk_data] Downloading package punkt to\n",
      "[nltk_data]     C:\\Users\\Deepk\\AppData\\Roaming\\nltk_data...\n",
      "[nltk_data]   Package punkt is already up-to-date!\n",
      "[nltk_data] Downloading package stopwords to\n",
      "[nltk_data]     C:\\Users\\Deepk\\AppData\\Roaming\\nltk_data...\n",
      "[nltk_data]   Package stopwords is already up-to-date!\n"
     ]
    },
    {
     "name": "stdout",
     "output_type": "stream",
     "text": [
      "quick brown fox jump lazy dog\n"
     ]
    }
   ],
   "source": [
    "import re\n",
    "import spacy\n",
    "import nltk\n",
    "from nltk.tokenize import word_tokenize\n",
    "from nltk.corpus import stopwords\n",
    "\n",
    "# Ensure NLTK datasets are downloaded\n",
    "nltk.download(\"punkt\")\n",
    "nltk.download(\"stopwords\")\n",
    "\n",
    "# Load spaCy's English model\n",
    "nlp = spacy.load(\"en_core_web_sm\")\n",
    "\n",
    "# Define stopwords\n",
    "STOP_WORDS = set(stopwords.words(\"english\"))\n",
    "\n",
    "def clean_text(text):\n",
    "    # Convert text to lowercase\n",
    "    text = text.lower()\n",
    "    \n",
    "    # Remove special characters, numbers, and punctuation\n",
    "    text = re.sub(r'[^a-zA-Z\\s]', '', text)\n",
    "    \n",
    "    # Tokenize text\n",
    "    tokens = word_tokenize(text)\n",
    "    \n",
    "    # Remove stopwords\n",
    "    tokens = [word for word in tokens if word not in STOP_WORDS]\n",
    "    \n",
    "    # Lemmatization\n",
    "    doc = nlp(\" \".join(tokens))\n",
    "    lemmatized_text = \" \".join([token.lemma_ for token in doc])\n",
    "    \n",
    "    return lemmatized_text\n",
    "\n",
    "# ✅ Test with a sample text\n",
    "sample_text = \"The quick brown foxes are jumping over the lazy dogs!\"\n",
    "print(clean_text(sample_text))\n",
    "\n",
    "\n"
   ]
  },
  {
   "cell_type": "markdown",
   "id": "713f0845-5492-4011-a297-d3c7c125ee86",
   "metadata": {},
   "source": [
    "## d) applying cleaning to our dataset"
   ]
  },
  {
   "cell_type": "code",
   "execution_count": 12,
   "id": "d5ab223e-8d36-4632-9286-0994b1b8e853",
   "metadata": {},
   "outputs": [
    {
     "name": "stdout",
     "output_type": "stream",
     "text": [
      "                                                text  \\\n",
      "0  Donald Trump s White House is in chaos, and th...   \n",
      "1  Now that Donald Trump is the presumptive GOP n...   \n",
      "2  Mike Pence is a huge homophobe. He supports ex...   \n",
      "3  SAN FRANCISCO (Reuters) - California Attorney ...   \n",
      "4  Twisted reasoning is all that comes from Pelos...   \n",
      "\n",
      "                                        cleaned_text  \n",
      "0  donald trump white house chaos try cover russi...  \n",
      "1  donald trump presumptive gop nominee time reme...  \n",
      "2  mike pence huge homophobe support exgay conver...  \n",
      "3  san francisco reuters california attorney gene...  \n",
      "4  twisted reasoning come pelosi day especially p...  \n",
      "✅ Cleaned dataset saved as 'cleaned_news.csv' (Processing Time: 1261.16 seconds)\n"
     ]
    }
   ],
   "source": [
    "import time\n",
    "\n",
    "# Apply text cleaning function to a sample first (for testing)\n",
    "news_data[\"cleaned_text\"] = news_data[\"text\"][:100].apply(clean_text)  # Only first 100 rows for quick test\n",
    "\n",
    "# Display a few cleaned rows\n",
    "print(news_data[['text', 'cleaned_text']].head())\n",
    "\n",
    "# Apply text cleaning to the full dataset with timing\n",
    "start_time = time.time()\n",
    "news_data[\"cleaned_text\"] = news_data[\"text\"].apply(clean_text)\n",
    "end_time = time.time()\n",
    "\n",
    "# Save cleaned dataset\n",
    "news_data.to_csv(\"cleaned_news.csv\", index=False)\n",
    "\n",
    "print(f\"✅ Cleaned dataset saved as 'cleaned_news.csv' (Processing Time: {end_time - start_time:.2f} seconds)\")\n",
    "\n"
   ]
  },
  {
   "cell_type": "markdown",
   "id": "1287ee22-1d4c-4357-8d89-a4f0a4978be2",
   "metadata": {},
   "source": [
    "## loading the combined dataset\n"
   ]
  },
  {
   "cell_type": "code",
   "execution_count": 3,
   "id": "ca13e3f0-3f29-4c5f-ba7b-10523b1bb8c2",
   "metadata": {},
   "outputs": [
    {
     "name": "stdout",
     "output_type": "stream",
     "text": [
      "Dataset Information:\n",
      "<class 'pandas.core.frame.DataFrame'>\n",
      "RangeIndex: 44898 entries, 0 to 44897\n",
      "Data columns (total 3 columns):\n",
      " #   Column  Non-Null Count  Dtype \n",
      "---  ------  --------------  ----- \n",
      " 0   title   44898 non-null  object\n",
      " 1   text    44898 non-null  object\n",
      " 2   label   44898 non-null  int64 \n",
      "dtypes: int64(1), object(2)\n",
      "memory usage: 1.0+ MB\n"
     ]
    },
    {
     "data": {
      "text/html": [
       "<div>\n",
       "<style scoped>\n",
       "    .dataframe tbody tr th:only-of-type {\n",
       "        vertical-align: middle;\n",
       "    }\n",
       "\n",
       "    .dataframe tbody tr th {\n",
       "        vertical-align: top;\n",
       "    }\n",
       "\n",
       "    .dataframe thead th {\n",
       "        text-align: right;\n",
       "    }\n",
       "</style>\n",
       "<table border=\"1\" class=\"dataframe\">\n",
       "  <thead>\n",
       "    <tr style=\"text-align: right;\">\n",
       "      <th></th>\n",
       "      <th>title</th>\n",
       "      <th>text</th>\n",
       "      <th>label</th>\n",
       "    </tr>\n",
       "  </thead>\n",
       "  <tbody>\n",
       "    <tr>\n",
       "      <th>0</th>\n",
       "      <td>BREAKING: GOP Chairman Grassley Has Had Enoug...</td>\n",
       "      <td>Donald Trump s White House is in chaos, and th...</td>\n",
       "      <td>0</td>\n",
       "    </tr>\n",
       "    <tr>\n",
       "      <th>1</th>\n",
       "      <td>Failed GOP Candidates Remembered In Hilarious...</td>\n",
       "      <td>Now that Donald Trump is the presumptive GOP n...</td>\n",
       "      <td>0</td>\n",
       "    </tr>\n",
       "    <tr>\n",
       "      <th>2</th>\n",
       "      <td>Mike Pence’s New DC Neighbors Are HILARIOUSLY...</td>\n",
       "      <td>Mike Pence is a huge homophobe. He supports ex...</td>\n",
       "      <td>0</td>\n",
       "    </tr>\n",
       "    <tr>\n",
       "      <th>3</th>\n",
       "      <td>California AG pledges to defend birth control ...</td>\n",
       "      <td>SAN FRANCISCO (Reuters) - California Attorney ...</td>\n",
       "      <td>1</td>\n",
       "    </tr>\n",
       "    <tr>\n",
       "      <th>4</th>\n",
       "      <td>AZ RANCHERS Living On US-Mexico Border Destroy...</td>\n",
       "      <td>Twisted reasoning is all that comes from Pelos...</td>\n",
       "      <td>0</td>\n",
       "    </tr>\n",
       "  </tbody>\n",
       "</table>\n",
       "</div>"
      ],
      "text/plain": [
       "                                               title  \\\n",
       "0   BREAKING: GOP Chairman Grassley Has Had Enoug...   \n",
       "1   Failed GOP Candidates Remembered In Hilarious...   \n",
       "2   Mike Pence’s New DC Neighbors Are HILARIOUSLY...   \n",
       "3  California AG pledges to defend birth control ...   \n",
       "4  AZ RANCHERS Living On US-Mexico Border Destroy...   \n",
       "\n",
       "                                                text  label  \n",
       "0  Donald Trump s White House is in chaos, and th...      0  \n",
       "1  Now that Donald Trump is the presumptive GOP n...      0  \n",
       "2  Mike Pence is a huge homophobe. He supports ex...      0  \n",
       "3  SAN FRANCISCO (Reuters) - California Attorney ...      1  \n",
       "4  Twisted reasoning is all that comes from Pelos...      0  "
      ]
     },
     "execution_count": 3,
     "metadata": {},
     "output_type": "execute_result"
    }
   ],
   "source": [
    "import pandas as pd\n",
    "\n",
    "# Load the combined dataset\n",
    "df = pd.read_csv(\"combined_news.csv\")\n",
    "\n",
    "# Display basic info\n",
    "print(\"Dataset Information:\")\n",
    "df.info()\n",
    "\n",
    "# Show first few rows\n",
    "df.head()\n"
   ]
  },
  {
   "cell_type": "markdown",
   "id": "77d822cf-7ff5-4f85-8558-fe15ae6669bc",
   "metadata": {},
   "source": [
    "## cleaning the data"
   ]
  },
  {
   "cell_type": "code",
   "execution_count": 5,
   "id": "1ab3dd1f-3cba-4ac4-813f-6090a3269ad3",
   "metadata": {},
   "outputs": [
    {
     "ename": "NameError",
     "evalue": "name 'df' is not defined",
     "output_type": "error",
     "traceback": [
      "\u001b[1;31m---------------------------------------------------------------------------\u001b[0m",
      "\u001b[1;31mNameError\u001b[0m                                 Traceback (most recent call last)",
      "Cell \u001b[1;32mIn[5], line 35\u001b[0m\n\u001b[0;32m     32\u001b[0m     \u001b[38;5;28;01mreturn\u001b[39;00m lemmatized_text\n\u001b[0;32m     34\u001b[0m \u001b[38;5;66;03m# Apply the cleaning function to the 'text' column\u001b[39;00m\n\u001b[1;32m---> 35\u001b[0m df[\u001b[38;5;124m\"\u001b[39m\u001b[38;5;124mcleaned_text\u001b[39m\u001b[38;5;124m\"\u001b[39m] \u001b[38;5;241m=\u001b[39m df[\u001b[38;5;124m\"\u001b[39m\u001b[38;5;124mtext\u001b[39m\u001b[38;5;124m\"\u001b[39m]\u001b[38;5;241m.\u001b[39mapply(clean_text)\n\u001b[0;32m     37\u001b[0m \u001b[38;5;66;03m# Save the cleaned dataset\u001b[39;00m\n\u001b[0;32m     38\u001b[0m df\u001b[38;5;241m.\u001b[39mto_csv(\u001b[38;5;124m\"\u001b[39m\u001b[38;5;124mcleaned_news.csv\u001b[39m\u001b[38;5;124m\"\u001b[39m, index\u001b[38;5;241m=\u001b[39m\u001b[38;5;28;01mFalse\u001b[39;00m)\n",
      "\u001b[1;31mNameError\u001b[0m: name 'df' is not defined"
     ]
    }
   ],
   "source": [
    "import spacy\n",
    "import re\n",
    "from nltk.tokenize import word_tokenize\n",
    "from nltk.corpus import stopwords\n",
    "\n",
    "# Load spaCy's English model\n",
    "nlp = spacy.load(\"en_core_web_sm\")\n",
    "\n",
    "# Define stopwords\n",
    "STOP_WORDS = set(stopwords.words(\"english\"))\n",
    "\n",
    "def clean_text(text):\n",
    "    if pd.isna(text):  # Handle missing values\n",
    "        return \"\"\n",
    "    \n",
    "    # Convert text to lowercase\n",
    "    text = text.lower()\n",
    "    \n",
    "    # Remove special characters, numbers, and punctuation\n",
    "    text = re.sub(r'[^a-zA-Z\\s]', '', text)\n",
    "    \n",
    "    # Tokenize text\n",
    "    tokens = word_tokenize(text)\n",
    "    \n",
    "    # Remove stopwords\n",
    "    tokens = [word for word in tokens if word not in STOP_WORDS]\n",
    "    \n",
    "    # Lemmatization\n",
    "    doc = nlp(\" \".join(tokens))\n",
    "    lemmatized_text = \" \".join([token.lemma_ for token in doc])\n",
    "    \n",
    "    return lemmatized_text\n",
    "\n",
    "# Apply the cleaning function to the 'text' column\n",
    "df[\"cleaned_text\"] = df[\"text\"].apply(clean_text)\n",
    "\n",
    "# Save the cleaned dataset\n",
    "df.to_csv(\"cleaned_news.csv\", index=False)\n",
    "\n",
    "# Show a preview\n",
    "df[[\"text\", \"cleaned_text\"]].head()\n"
   ]
  },
  {
   "cell_type": "markdown",
   "id": "2ef4e2bc-ac50-4e48-a620-ab856d330581",
   "metadata": {},
   "source": [
    "## load the cleaned dataset\n"
   ]
  },
  {
   "cell_type": "code",
   "execution_count": 7,
   "id": "755f1159-1955-4814-9543-8403bf47dc6d",
   "metadata": {},
   "outputs": [
    {
     "data": {
      "text/html": [
       "<div>\n",
       "<style scoped>\n",
       "    .dataframe tbody tr th:only-of-type {\n",
       "        vertical-align: middle;\n",
       "    }\n",
       "\n",
       "    .dataframe tbody tr th {\n",
       "        vertical-align: top;\n",
       "    }\n",
       "\n",
       "    .dataframe thead th {\n",
       "        text-align: right;\n",
       "    }\n",
       "</style>\n",
       "<table border=\"1\" class=\"dataframe\">\n",
       "  <thead>\n",
       "    <tr style=\"text-align: right;\">\n",
       "      <th></th>\n",
       "      <th>title</th>\n",
       "      <th>text</th>\n",
       "      <th>label</th>\n",
       "      <th>cleaned_text</th>\n",
       "    </tr>\n",
       "  </thead>\n",
       "  <tbody>\n",
       "    <tr>\n",
       "      <th>0</th>\n",
       "      <td>BREAKING: GOP Chairman Grassley Has Had Enoug...</td>\n",
       "      <td>Donald Trump s White House is in chaos, and th...</td>\n",
       "      <td>0</td>\n",
       "      <td>donald trump white house chaos try cover russi...</td>\n",
       "    </tr>\n",
       "    <tr>\n",
       "      <th>1</th>\n",
       "      <td>Failed GOP Candidates Remembered In Hilarious...</td>\n",
       "      <td>Now that Donald Trump is the presumptive GOP n...</td>\n",
       "      <td>0</td>\n",
       "      <td>donald trump presumptive gop nominee time reme...</td>\n",
       "    </tr>\n",
       "    <tr>\n",
       "      <th>2</th>\n",
       "      <td>Mike Pence’s New DC Neighbors Are HILARIOUSLY...</td>\n",
       "      <td>Mike Pence is a huge homophobe. He supports ex...</td>\n",
       "      <td>0</td>\n",
       "      <td>mike pence huge homophobe support exgay conver...</td>\n",
       "    </tr>\n",
       "    <tr>\n",
       "      <th>3</th>\n",
       "      <td>California AG pledges to defend birth control ...</td>\n",
       "      <td>SAN FRANCISCO (Reuters) - California Attorney ...</td>\n",
       "      <td>1</td>\n",
       "      <td>san francisco reuters california attorney gene...</td>\n",
       "    </tr>\n",
       "    <tr>\n",
       "      <th>4</th>\n",
       "      <td>AZ RANCHERS Living On US-Mexico Border Destroy...</td>\n",
       "      <td>Twisted reasoning is all that comes from Pelos...</td>\n",
       "      <td>0</td>\n",
       "      <td>twisted reasoning come pelosi day especially p...</td>\n",
       "    </tr>\n",
       "  </tbody>\n",
       "</table>\n",
       "</div>"
      ],
      "text/plain": [
       "                                               title  \\\n",
       "0   BREAKING: GOP Chairman Grassley Has Had Enoug...   \n",
       "1   Failed GOP Candidates Remembered In Hilarious...   \n",
       "2   Mike Pence’s New DC Neighbors Are HILARIOUSLY...   \n",
       "3  California AG pledges to defend birth control ...   \n",
       "4  AZ RANCHERS Living On US-Mexico Border Destroy...   \n",
       "\n",
       "                                                text  label  \\\n",
       "0  Donald Trump s White House is in chaos, and th...      0   \n",
       "1  Now that Donald Trump is the presumptive GOP n...      0   \n",
       "2  Mike Pence is a huge homophobe. He supports ex...      0   \n",
       "3  SAN FRANCISCO (Reuters) - California Attorney ...      1   \n",
       "4  Twisted reasoning is all that comes from Pelos...      0   \n",
       "\n",
       "                                        cleaned_text  \n",
       "0  donald trump white house chaos try cover russi...  \n",
       "1  donald trump presumptive gop nominee time reme...  \n",
       "2  mike pence huge homophobe support exgay conver...  \n",
       "3  san francisco reuters california attorney gene...  \n",
       "4  twisted reasoning come pelosi day especially p...  "
      ]
     },
     "execution_count": 7,
     "metadata": {},
     "output_type": "execute_result"
    }
   ],
   "source": [
    "import pandas as pd\n",
    "\n",
    "# Load the cleaned dataset\n",
    "df = pd.read_csv(\"cleaned_news.csv\")\n",
    "\n",
    "# Display first few rows\n",
    "df.head()"
   ]
  },
  {
   "cell_type": "markdown",
   "id": "7229cd94-fc17-4909-9543-359ed8d25243",
   "metadata": {},
   "source": [
    "# 3. exploratory data analysis (EDA)"
   ]
  },
  {
   "cell_type": "markdown",
   "id": "dc13047f-90cb-4fb6-b7cb-322b2dc1154c",
   "metadata": {},
   "source": [
    "## a. Check Class Distribution"
   ]
  },
  {
   "cell_type": "code",
   "execution_count": 58,
   "id": "8e302cc1-5d8b-4a71-82d0-1a4f91041576",
   "metadata": {},
   "outputs": [
    {
     "name": "stderr",
     "output_type": "stream",
     "text": [
      "C:\\Users\\Deepk\\AppData\\Local\\Temp\\ipykernel_24216\\2267986387.py:9: FutureWarning: \n",
      "\n",
      "Passing `palette` without assigning `hue` is deprecated and will be removed in v0.14.0. Assign the `x` variable to `hue` and set `legend=False` for the same effect.\n",
      "\n",
      "  sns.barplot(x=class_counts.index, y=class_counts.values, palette=[\"blue\", \"red\"])\n"
     ]
    },
    {
     "data": {
      "image/png": "[encoded data removed]",
      "text/plain": [
       "<Figure size 600x400 with 1 Axes>"
      ]
     },
     "metadata": {},
     "output_type": "display_data"
    }
   ],
   "source": [
    "import matplotlib.pyplot as plt\n",
    "import seaborn as sns\n",
    "\n",
    "# Count the number of real and fake news\n",
    "class_counts = df[\"label\"].value_counts()\n",
    "\n",
    "# Plot the distribution\n",
    "plt.figure(figsize=(6, 4))\n",
    "sns.barplot(x=class_counts.index, y=class_counts.values, palette=[\"blue\", \"red\"])\n",
    "plt.xticks(ticks=[0, 1], labels=[\"Fake News\", \"Real News\"])\n",
    "plt.xlabel(\"News Type\")\n",
    "plt.ylabel(\"Count\")\n",
    "plt.title(\"Distribution of Fake vs Real News\")\n",
    "plt.show()\n"
   ]
  },
  {
   "cell_type": "markdown",
   "id": "dc1340fd-52a9-4ae2-b517-3c52cd7ae6db",
   "metadata": {},
   "source": [
    "## b. word count distribution"
   ]
  },
  {
   "cell_type": "code",
   "execution_count": 60,
   "id": "0264f177-8359-419a-88f0-2abe5697e6c6",
   "metadata": {},
   "outputs": [
    {
     "data": {
      "image/png": "[encoded data removed]",
      "text/plain": [
       "<Figure size 1000x600 with 1 Axes>"
      ]
     },
     "metadata": {},
     "output_type": "display_data"
    }
   ],
   "source": [
    "# Calculate word counts\n",
    "df[\"word_count\"] = df[\"cleaned_text\"].apply(lambda x: len(str(x).split()))\n",
    "\n",
    "# Plot distribution of word counts\n",
    "plt.figure(figsize=(10, 6))\n",
    "sns.histplot(df[df[\"label\"] == 0][\"word_count\"], bins=50, color=\"red\", label=\"Fake News\", kde=True)\n",
    "sns.histplot(df[df[\"label\"] == 1][\"word_count\"], bins=50, color=\"blue\", label=\"Real News\", kde=True)\n",
    "plt.xlabel(\"Word Count\")\n",
    "plt.ylabel(\"Frequency\")\n",
    "plt.title(\"Word Count Distribution in Fake vs Real News\")\n",
    "\n",
    "# Limit x-axis to 100-1000 range\n",
    "plt.xlim(100, 1000)\n",
    "\n",
    "plt.legend()\n",
    "plt.show()\n"
   ]
  },
  {
   "cell_type": "code",
   "execution_count": 45,
   "id": "6a09a621-ec88-419a-af75-f387e30ac4a9",
   "metadata": {},
   "outputs": [
    {
     "data": {
      "image/png": "[encoded data removed]",
      "text/plain": [
       "<Figure size 1000x600 with 1 Axes>"
      ]
     },
     "metadata": {},
     "output_type": "display_data"
    }
   ],
   "source": [
    "# Calculate word counts\n",
    "df[\"word_count\"] = df[\"cleaned_text\"].apply(lambda x: len(str(x).split()))\n",
    "\n",
    "# Plot distribution of word counts\n",
    "plt.figure(figsize=(10, 6))\n",
    "sns.histplot(df[df[\"label\"] == 0][\"word_count\"], bins=50, color=\"red\", label=\"Fake News\", kde=True)\n",
    "sns.histplot(df[df[\"label\"] == 1][\"word_count\"], bins=50, color=\"blue\", label=\"Real News\", kde=True)\n",
    "sns.kdeplot(df[df[\"label\"] == 0][\"word_count\"], color=\"red\", label=\"Fake News (Kernel Density Estimation)\", linewidth=2)\n",
    "sns.kdeplot(df[df[\"label\"] == 1][\"word_count\"], color=\"blue\", label=\"Real News (Kernel Density Estimation)\", linewidth=2)\n",
    "plt.xlabel(\"Word Count\")\n",
    "plt.ylabel(\"Articles\")\n",
    "plt.title(\"Word Count Distribution in Fake vs Real News\")\n",
    "\n",
    "# Limit x-axis to 100-1000 range\n",
    "plt.xlim(100, 1000)\n",
    "\n",
    "plt.legend()\n",
    "plt.show()\n"
   ]
  },
  {
   "cell_type": "markdown",
   "id": "44c4b44d-db94-4868-a4c0-0d5e43689d60",
   "metadata": {},
   "source": [
    "## Most Common Words in Fake vs Real News"
   ]
  },
  {
   "cell_type": "code",
   "execution_count": 5,
   "id": "e39031c0-95aa-40ac-af2b-b26db5abb539",
   "metadata": {},
   "outputs": [
    {
     "ename": "NameError",
     "evalue": "name 'df' is not defined",
     "output_type": "error",
     "traceback": [
      "\u001b[1;31m---------------------------------------------------------------------------\u001b[0m",
      "\u001b[1;31mNameError\u001b[0m                                 Traceback (most recent call last)",
      "Cell \u001b[1;32mIn[5], line 9\u001b[0m\n\u001b[0;32m      6\u001b[0m     \u001b[38;5;28;01mreturn\u001b[39;00m Counter(all_words)\u001b[38;5;241m.\u001b[39mmost_common(n)\n\u001b[0;32m      8\u001b[0m \u001b[38;5;66;03m# Get top words for fake and real news\u001b[39;00m\n\u001b[1;32m----> 9\u001b[0m fake_top_words \u001b[38;5;241m=\u001b[39m get_top_words(df[df[\u001b[38;5;124m\"\u001b[39m\u001b[38;5;124mlabel\u001b[39m\u001b[38;5;124m\"\u001b[39m] \u001b[38;5;241m==\u001b[39m \u001b[38;5;241m0\u001b[39m][\u001b[38;5;124m\"\u001b[39m\u001b[38;5;124mcleaned_text\u001b[39m\u001b[38;5;124m\"\u001b[39m])\n\u001b[0;32m     10\u001b[0m real_top_words \u001b[38;5;241m=\u001b[39m get_top_words(df[df[\u001b[38;5;124m\"\u001b[39m\u001b[38;5;124mlabel\u001b[39m\u001b[38;5;124m\"\u001b[39m] \u001b[38;5;241m==\u001b[39m \u001b[38;5;241m1\u001b[39m][\u001b[38;5;124m\"\u001b[39m\u001b[38;5;124mcleaned_text\u001b[39m\u001b[38;5;124m\"\u001b[39m])\n\u001b[0;32m     12\u001b[0m \u001b[38;5;66;03m# Convert to DataFrame for visualization\u001b[39;00m\n",
      "\u001b[1;31mNameError\u001b[0m: name 'df' is not defined"
     ]
    }
   ],
   "source": [
    "from collections import Counter\n",
    "\n",
    "def get_top_words(text_list, n=20):\n",
    "    # Ensure all entries are strings, replacing NaN values with empty strings\n",
    "    all_words = \" \".join(text_list.fillna(\"\").astype(str)).split()\n",
    "    return Counter(all_words).most_common(n)\n",
    "\n",
    "# Get top words for fake and real news\n",
    "fake_top_words = get_top_words(df[df[\"label\"] == 0][\"cleaned_text\"])\n",
    "real_top_words = get_top_words(df[df[\"label\"] == 1][\"cleaned_text\"])\n",
    "\n",
    "# Convert to DataFrame for visualization\n",
    "fake_words_df = pd.DataFrame(fake_top_words, columns=[\"Word\", \"Count\"])\n",
    "real_words_df = pd.DataFrame(real_top_words, columns=[\"Word\", \"Count\"])\n",
    "\n",
    "# Display the top words\n",
    "fake_words_df.head(), real_words_df.head()\n"
   ]
  },
  {
   "cell_type": "markdown",
   "id": "e5dbbe7b-a951-4d86-a377-59dbd8e5de6e",
   "metadata": {},
   "source": [
    "# 4. cleaned text data into numerical values using TF-IDF (Term Frequency-Inverse Document Frequency)."
   ]
  },
  {
   "cell_type": "code",
   "execution_count": 50,
   "id": "8f0312f8-a223-42ef-ad53-e2a32f1338f0",
   "metadata": {},
   "outputs": [
    {
     "name": "stdout",
     "output_type": "stream",
     "text": [
      "TF-IDF transformation done!\n",
      "Shape of TF-IDF matrix: (44898, 5000)\n"
     ]
    }
   ],
   "source": [
    "from sklearn.feature_extraction.text import TfidfVectorizer\n",
    "\n",
    "tfidf_vectorizer = TfidfVectorizer(max_features=5000)  # Adjust features if needed\n",
    "X_tfidf = tfidf_vectorizer.fit_transform(df[\"text\"])  # Assuming 'text' column exists\n",
    "\n",
    "print(\"TF-IDF transformation done!\")\n",
    "print(\"Shape of TF-IDF matrix:\", X_tfidf.shape)\n"
   ]
  },
  {
   "cell_type": "code",
   "execution_count": 52,
   "id": "9d70679e-836e-47cc-9122-2c5628ce3544",
   "metadata": {},
   "outputs": [
    {
     "name": "stdout",
     "output_type": "stream",
     "text": [
      "✅ TF-IDF features & vectorizer saved successfully!\n"
     ]
    }
   ],
   "source": [
    "import pickle\n",
    "\n",
    "# Save TF-IDF features\n",
    "with open(\"tfidf_features.pkl\", \"wb\") as f:\n",
    "    pickle.dump(X_tfidf, f)\n",
    "\n",
    "# Save TF-IDF vectorizer\n",
    "with open(\"tfidf_vectorizer.pkl\", \"wb\") as f:\n",
    "    pickle.dump(tfidf_vectorizer, f)\n",
    "\n",
    "print(\"✅ TF-IDF features & vectorizer saved successfully!\")\n"
   ]
  },
  {
   "cell_type": "markdown",
   "id": "701bfa68-baa6-4e5f-b866-3fd0164d7a5a",
   "metadata": {},
   "source": [
    "## load\n"
   ]
  },
  {
   "cell_type": "code",
   "execution_count": 1,
   "id": "f540beb2-e696-42eb-81f4-9d4e8fda00bf",
   "metadata": {},
   "outputs": [
    {
     "name": "stdout",
     "output_type": "stream",
     "text": [
      "✅ TF-IDF data loaded successfully!\n",
      "Shape of TF-IDF matrix: (44898, 5000)\n",
      "  (0, 1427)\t0.09868531664758826\n",
      "  (0, 4645)\t0.200551179614245\n",
      "  (0, 4898)\t0.09518898981346134\n",
      "  (0, 2205)\t0.08869420790530526\n",
      "  (0, 2409)\t0.11053953820196939\n",
      "  (0, 2277)\t0.05606701014890248\n",
      "  (0, 836)\t0.06539480830672074\n",
      "  (0, 315)\t0.154101668823393\n",
      "  (0, 4513)\t0.14778104964855845\n",
      "  (0, 388)\t0.15835451034217093\n",
      "  (0, 4650)\t0.04238292946714133\n",
      "  (0, 4563)\t0.13738966422225807\n",
      "  (0, 1137)\t0.05689894297908844\n",
      "  (0, 2424)\t0.11586535188387828\n",
      "  (0, 4724)\t0.04931859096969307\n",
      "  (0, 4502)\t0.06891187584504477\n",
      "  (0, 3919)\t0.04226240789906198\n",
      "  (0, 3478)\t0.11000301397139119\n",
      "  (0, 720)\t0.01743395667383242\n",
      "  (0, 4500)\t0.24184976391997226\n",
      "  (0, 2203)\t0.06000259143425392\n",
      "  (0, 3697)\t0.13666950188261925\n",
      "  (0, 151)\t0.07598876622251344\n",
      "  (0, 4499)\t0.18036126699045785\n",
      "  (0, 4509)\t0.05093406066192757\n",
      "  :\t:\n",
      "  (4, 2587)\t0.132228387216266\n",
      "  (4, 892)\t0.171578493513075\n",
      "  (4, 1284)\t0.07549657834361985\n",
      "  (4, 2892)\t0.09936501945508326\n",
      "  (4, 2604)\t0.06700329239881243\n",
      "  (4, 2984)\t0.1192353938812953\n",
      "  (4, 4428)\t0.11225822151236167\n",
      "  (4, 3855)\t0.1093744727785454\n",
      "  (4, 2134)\t0.053986783244135264\n",
      "  (4, 571)\t0.10516689133785977\n",
      "  (4, 3645)\t0.07466781122662795\n",
      "  (4, 4829)\t0.08496478923657118\n",
      "  (4, 641)\t0.10514618172774726\n",
      "  (4, 2822)\t0.08809576551084763\n",
      "  (4, 171)\t0.10601151992179295\n",
      "  (4, 2249)\t0.0830321747360498\n",
      "  (4, 420)\t0.06311600639148332\n",
      "  (4, 1629)\t0.07375271586409894\n",
      "  (4, 2395)\t0.11604136452590558\n",
      "  (4, 3812)\t0.18682069590481207\n",
      "  (4, 2195)\t0.0867718445684235\n",
      "  (4, 4284)\t0.10345290159752113\n",
      "  (4, 4980)\t0.09341034795240603\n",
      "  (4, 4082)\t0.052556934675139944\n",
      "  (4, 3034)\t0.06657628514613877\n"
     ]
    }
   ],
   "source": [
    "import pickle\n",
    "\n",
    "# Load TF-IDF features\n",
    "with open(\"tfidf_features.pkl\", \"rb\") as f:\n",
    "    X_tfidf = pickle.load(f)\n",
    "\n",
    "# Load TF-IDF vectorizer\n",
    "with open(\"tfidf_vectorizer.pkl\", \"rb\") as f:\n",
    "    tfidf_vectorizer = pickle.load(f)\n",
    "\n",
    "print(\"✅ TF-IDF data loaded successfully!\")\n",
    "print(\"Shape of TF-IDF matrix:\", X_tfidf.shape)\n",
    "print(X_tfidf[:5])  # Display first 5 rows\n"
   ]
  },
  {
   "cell_type": "markdown",
   "id": "9c79899e-bb5a-444a-ae74-802506223332",
   "metadata": {},
   "source": [
    "## data splitting"
   ]
  },
  {
   "cell_type": "code",
   "execution_count": 9,
   "id": "e56e9caf-12e6-4a3d-82f0-6dec6fcd104b",
   "metadata": {},
   "outputs": [
    {
     "name": "stdout",
     "output_type": "stream",
     "text": [
      "Data splitting completed! Training and testing sets are saved.\n"
     ]
    }
   ],
   "source": [
    "from sklearn.model_selection import train_test_split\n",
    "\n",
    "# Load the vectorized features and labels\n",
    "with open(\"tfidf_features.pkl\", \"rb\") as f:\n",
    "    X_tfidf = pickle.load(f)\n",
    "\n",
    "with open(\"tfidf_vectorizer.pkl\", \"rb\") as f:\n",
    "    vectorizer = pickle.load(f)\n",
    "\n",
    "# Load the dataset to get labels\n",
    "df = pd.read_csv(\"cleaned_news.csv\")\n",
    "\n",
    "# Define features and labels\n",
    "X = X_tfidf  # TF-IDF features\n",
    "y = df[\"label\"]  # Labels (0 for fake, 1 for real)\n",
    "\n",
    "# Split the dataset (80% training, 20% testing)\n",
    "X_train, X_test, y_train, y_test = train_test_split(X, y, test_size=0.2, random_state=42)\n",
    "\n",
    "# Save the split datasets\n",
    "with open(\"X_train.pkl\", \"wb\") as f:\n",
    "    pickle.dump(X_train, f)\n",
    "with open(\"X_test.pkl\", \"wb\") as f:\n",
    "    pickle.dump(X_test, f)\n",
    "with open(\"y_train.pkl\", \"wb\") as f:\n",
    "    pickle.dump(y_train, f)\n",
    "with open(\"y_test.pkl\", \"wb\") as f:\n",
    "    pickle.dump(y_test, f)\n",
    "\n",
    "print(\"Data splitting completed! Training and testing sets are saved.\")\n"
   ]
  },
  {
   "cell_type": "markdown",
   "id": "02f1512f-1b7d-48e3-b0d8-33667fbe8169",
   "metadata": {},
   "source": [
    "## load "
   ]
  },
  {
   "cell_type": "code",
   "execution_count": 23,
   "id": "35e52e35-0262-4ebb-a3ab-5af1c95971b1",
   "metadata": {},
   "outputs": [
    {
     "name": "stdout",
     "output_type": "stream",
     "text": [
      "Train-test data successfully loaded!\n"
     ]
    }
   ],
   "source": [
    "import pickle\n",
    "\n",
    "# Load the train-test split\n",
    "with open(\"X_train.pkl\", \"rb\") as f:\n",
    "    X_train = pickle.load(f)\n",
    "with open(\"X_test.pkl\", \"rb\") as f:\n",
    "    X_test = pickle.load(f)\n",
    "with open(\"y_train.pkl\", \"rb\") as f:\n",
    "    y_train = pickle.load(f)\n",
    "with open(\"y_test.pkl\", \"rb\") as f:\n",
    "    y_test = pickle.load(f)\n",
    "\n",
    "print(\"Train-test data successfully loaded!\")\n",
    "\n"
   ]
  },
  {
   "cell_type": "code",
   "execution_count": 25,
   "id": "6cdb31cc-6be0-43a3-a861-d7d118896797",
   "metadata": {},
   "outputs": [
    {
     "name": "stdout",
     "output_type": "stream",
     "text": [
      "Model training completed and saved!\n"
     ]
    }
   ],
   "source": [
    "from sklearn.linear_model import LogisticRegression\n",
    "\n",
    "# Initialize and train the model\n",
    "model = LogisticRegression(max_iter=1000)\n",
    "model.fit(X_train, y_train)\n",
    "\n",
    "# Save the trained model\n",
    "with open(\"logistic_model.pkl\", \"wb\") as f:\n",
    "    pickle.dump(model, f)\n",
    "\n",
    "print(\"Model training completed and saved!\")\n",
    "\n"
   ]
  },
  {
   "cell_type": "code",
   "execution_count": 27,
   "id": "2cc29e5a-a078-4e3d-afbd-962c261aea9f",
   "metadata": {},
   "outputs": [
    {
     "name": "stdout",
     "output_type": "stream",
     "text": [
      "Model Accuracy: 0.9875\n",
      "Classification Report:\n",
      "               precision    recall  f1-score   support\n",
      "\n",
      "           0       0.99      0.98      0.99      4669\n",
      "           1       0.98      0.99      0.99      4311\n",
      "\n",
      "    accuracy                           0.99      8980\n",
      "   macro avg       0.99      0.99      0.99      8980\n",
      "weighted avg       0.99      0.99      0.99      8980\n",
      "\n"
     ]
    }
   ],
   "source": [
    "from sklearn.metrics import accuracy_score, classification_report\n",
    "\n",
    "# Load the trained model\n",
    "with open(\"logistic_model.pkl\", \"rb\") as f:\n",
    "    model = pickle.load(f)\n",
    "\n",
    "# Make predictions\n",
    "y_pred = model.predict(X_test)\n",
    "\n",
    "# Evaluate performance\n",
    "accuracy = accuracy_score(y_test, y_pred)\n",
    "report = classification_report(y_test, y_pred)\n",
    "\n",
    "# Display results\n",
    "print(f\"Model Accuracy: {accuracy:.4f}\")\n",
    "print(\"Classification Report:\\n\", report)\n"
   ]
  },
  {
   "cell_type": "code",
   "execution_count": 62,
   "id": "45a82c67-901c-41bd-b503-e258a8b0053c",
   "metadata": {},
   "outputs": [
    {
     "name": "stdin",
     "output_type": "stream",
     "text": [
      "Enter the news article:  san francisco reuters california attorney general xavier becerra say friday prepare take whatever action take defend obamacare mandate health insurer provide birth control trump administration move circumvent administration new contraception exemption another example trump administration trample people right case woman becerra tell reuters becerra democratic attorney general file courtroom challenge trump administration policy involve healthcare immigration environment\n"
     ]
    },
    {
     "name": "stdout",
     "output_type": "stream",
     "text": [
      "Prediction: Real News\n"
     ]
    }
   ],
   "source": [
    "import pickle\n",
    "import re\n",
    "from nltk.tokenize import word_tokenize\n",
    "from nltk.corpus import stopwords\n",
    "import spacy\n",
    "\n",
    "# Load the saved model\n",
    "with open(\"logistic_model.pkl\", \"rb\") as f:\n",
    "    model = pickle.load(f)\n",
    "\n",
    "# Load the saved TF-IDF vectorizer\n",
    "with open(\"tfidf_vectorizer.pkl\", \"rb\") as f:\n",
    "    vectorizer = pickle.load(f)\n",
    "\n",
    "# Load spaCy model\n",
    "nlp = spacy.load(\"en_core_web_sm\")\n",
    "\n",
    "# Define stopwords\n",
    "STOP_WORDS = set(stopwords.words(\"english\"))\n",
    "\n",
    "def clean_text(text):\n",
    "    text = text.lower()\n",
    "    text = re.sub(r'[^a-zA-Z\\s]', '', text)  # Remove special characters\n",
    "    tokens = word_tokenize(text)\n",
    "    tokens = [word for word in tokens if word not in STOP_WORDS]\n",
    "    doc = nlp(\" \".join(tokens))\n",
    "    lemmatized_text = \" \".join([token.lemma_ for token in doc])\n",
    "    return lemmatized_text\n",
    "\n",
    "# Function to predict news\n",
    "def check_news(news_text):\n",
    "    cleaned_news = clean_text(news_text)  # Preprocess the news\n",
    "    transformed_news = vectorizer.transform([cleaned_news])  # Convert to numerical form\n",
    "    prediction = model.predict(transformed_news)[0]  # Predict using model\n",
    "    return \"Fake News\" if prediction == 0 else \"Real News\"\n",
    "\n",
    "# Example usage\n",
    "news_article = input(\"Enter the news article: \")\n",
    "result = check_news(news_article)\n",
    "print(\"Prediction:\", result)\n"
   ]
  },
  {
   "cell_type": "code",
   "execution_count": null,
   "id": "fa075d65-1cc9-4c06-8bf4-f3c1041d478b",
   "metadata": {},
   "outputs": [],
   "source": []
  }
 ],
 "metadata": {
  "kernelspec": {
   "display_name": "Python 3 (ipykernel)",
   "language": "python",
   "name": "python3"
  },
  "language_info": {
   "codemirror_mode": {
    "name": "ipython",
    "version": 3
   },
   "file_extension": ".py",
   "mimetype": "text/x-python",
   "name": "python",
   "nbconvert_exporter": "python",
   "pygments_lexer": "ipython3",
   "version": "3.12.7"
  }
 },
 "nbformat": 4,
 "nbformat_minor": 5
}
